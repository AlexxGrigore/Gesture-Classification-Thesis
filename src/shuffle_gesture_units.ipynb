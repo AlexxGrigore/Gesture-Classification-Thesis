{
 "cells": [
  {
   "cell_type": "code",
   "execution_count": 1,
   "id": "d6d07d9b-c4e2-4231-b691-e8ad4077c869",
   "metadata": {},
   "outputs": [
    {
     "name": "stdout",
     "output_type": "stream",
     "text": [
      "Files have been successfully shuffled and split into train, val, and test sets.\n"
     ]
    }
   ],
   "source": [
    "import os\n",
    "import shutil\n",
    "import random\n",
    "\n",
    "# Define the source and destination directories\n",
    "source_dir = 'dataset_raw_gunits'\n",
    "destination_dir = 'dataset_gunit'\n",
    "\n",
    "# Define the split ratios\n",
    "train_ratio = 0.7\n",
    "val_ratio = 0.15\n",
    "test_ratio = 0.15\n",
    "\n",
    "# Define the categories\n",
    "categories = ['gunit', 'nothing']\n",
    "\n",
    "# Create the destination directory structure\n",
    "for split in ['train', 'val', 'test']:\n",
    "    for category in categories:\n",
    "        os.makedirs(os.path.join(destination_dir, split, category), exist_ok=True)\n",
    "\n",
    "# Function to get all files in a directory\n",
    "def get_all_files(directory):\n",
    "    files = []\n",
    "    for file in os.listdir(directory):\n",
    "        if file.endswith('.mp4'):\n",
    "            files.append(os.path.join(directory, file))\n",
    "    return files\n",
    "\n",
    "# Shuffle and split files\n",
    "for category in categories:\n",
    "    category_dir = os.path.join(source_dir, category)\n",
    "    files = get_all_files(category_dir)\n",
    "    random.shuffle(files)\n",
    "    \n",
    "    # Calculate split indices\n",
    "    total_files = len(files)\n",
    "    train_end = int(total_files * train_ratio)\n",
    "    val_end = train_end + int(total_files * val_ratio)\n",
    "\n",
    "    # Split files\n",
    "    train_files = files[:train_end]\n",
    "    val_files = files[train_end:val_end]\n",
    "    test_files = files[val_end:]\n",
    "\n",
    "    # Function to move files\n",
    "    def move_files(files, split):\n",
    "        for file in files:\n",
    "            shutil.move(file, os.path.join(destination_dir, split, category))\n",
    "\n",
    "    # Move files to their respective directories\n",
    "    move_files(train_files, 'train')\n",
    "    move_files(val_files, 'val')\n",
    "    move_files(test_files, 'test')\n",
    "\n",
    "print(\"Files have been successfully shuffled and split into train, val, and test sets.\")\n"
   ]
  },
  {
   "cell_type": "code",
   "execution_count": null,
   "id": "35f998f6-5ccc-4378-aa7d-fb642613f397",
   "metadata": {},
   "outputs": [],
   "source": []
  }
 ],
 "metadata": {
  "kernelspec": {
   "display_name": "Python 3 (ipykernel)",
   "language": "python",
   "name": "python3"
  },
  "language_info": {
   "codemirror_mode": {
    "name": "ipython",
    "version": 3
   },
   "file_extension": ".py",
   "mimetype": "text/x-python",
   "name": "python",
   "nbconvert_exporter": "python",
   "pygments_lexer": "ipython3",
   "version": "3.9.12"
  }
 },
 "nbformat": 4,
 "nbformat_minor": 5
}
